{
 "cells": [
  {
   "cell_type": "code",
   "execution_count": 2,
   "metadata": {},
   "outputs": [],
   "source": [
    "import math"
   ]
  },
  {
   "cell_type": "code",
   "execution_count": null,
   "metadata": {},
   "outputs": [],
   "source": [
    "@cuda.jit(device=False)\n",
    "def scan_preScan(array):\n",
    "    threadID = cuda.threadIdx.x\n",
    "    blockID = cuda.blockIdx.x # Block id in a 1D grid\n",
    "\n",
    "    idx_shared = threadID*2 # index in shared array \n",
    "    idx_device = idx_shared + blockID*scan_array_size # index in full array\n",
    "    nrows = array.shape[0] - 1 # index limit for last block\n",
    "    \n",
    "    # Preload data into shared memory\n",
    "    # s_array = cuda.shared.array(shape=(scan_array_size), dtype=array.dtype) \n",
    "    s_array = cuda.shared.array(shape=(scan_array_size), dtype=np.int32) \n",
    "    if (idx_device < nrows): # each thread handles 2 fields\n",
    "        s_array[idx_shared] = array[idx_device]\n",
    "        s_array[idx_shared + 1] = array[idx_device + 1] \n",
    "    cuda.syncthreads()  # Wait until all threads finish preloading\n",
    "\n",
    "    exclusiv_parallel_prefix_sum(s_array, idx_shared, scan_array_size) # scan s_array\n",
    "    cuda.syncthreads()\n",
    "    \n",
    "    # output for exclusiv scan\n",
    "    # if (idx2 < nrows):\n",
    "    #   array[idx2] = s_array[idx]\n",
    "    #   array[idx2 + 1] = s_array[idx + 1] \n",
    "    # output for inclusiv scan: switch the exclisiv scan to an inclusiv scan by shifting left and adding at the end\n",
    "    if (idx_shared + 2 == scan_array_size or idx_device + 1 == nrows): # last index in s_array or last index in array\n",
    "        array[idx_device] = s_array[idx_shared + 1]\n",
    "        array[idx_device + 1] += s_array[idx_shared + 1]\n",
    "    elif (idx_device < nrows):\n",
    "        array[idx_device] = s_array[idx_shared + 1]\n",
    "        array[idx_device + 1] = s_array[idx_shared + 2] "
   ]
  },
  {
   "cell_type": "code",
   "execution_count": 3,
   "metadata": {},
   "outputs": [],
   "source": [
    "scan_max_threads = 1024 # number of threads per block the card can handle (select max possible value)\n",
    "scan_array_size = scan_max_threads*2 # array size which can be accumulated parallel by one block\n",
    "scan_nlevel = int(math.log2(scan_array_size))"
   ]
  },
  {
   "cell_type": "code",
   "execution_count": 50,
   "metadata": {},
   "outputs": [
    {
     "name": "stdout",
     "output_type": "stream",
     "text": [
      "900\n",
      "901\n"
     ]
    }
   ],
   "source": [
    "array_shape = 226182\n",
    "\n",
    "threadID = 450\n",
    "blockID = 110\n",
    "\n",
    "idx_shared = threadID*2\n",
    "idx_device = idx_shared + blockID*scan_array_size\n",
    "nrows = array_shape - 1\n",
    "\n",
    "bIsTrue = idx_device < nrows\n",
    "\n",
    "print(idx_shared)\n",
    "print(idx_shared + 1)\n"
   ]
  },
  {
   "cell_type": "code",
   "execution_count": 51,
   "metadata": {},
   "outputs": [
    {
     "name": "stdout",
     "output_type": "stream",
     "text": [
      "226180\n",
      "226181\n"
     ]
    }
   ],
   "source": [
    "print(idx_device)\n",
    "print(idx_device + 1)"
   ]
  },
  {
   "cell_type": "code",
   "execution_count": 54,
   "metadata": {},
   "outputs": [
    {
     "data": {
      "text/plain": [
       "False"
      ]
     },
     "execution_count": 54,
     "metadata": {},
     "output_type": "execute_result"
    }
   ],
   "source": [
    "idx_shared + 2 == scan_array_size"
   ]
  },
  {
   "cell_type": "code",
   "execution_count": 55,
   "metadata": {},
   "outputs": [
    {
     "data": {
      "text/plain": [
       "True"
      ]
     },
     "execution_count": 55,
     "metadata": {},
     "output_type": "execute_result"
    }
   ],
   "source": [
    "idx_device + 1 == nrows"
   ]
  },
  {
   "cell_type": "code",
   "execution_count": 56,
   "metadata": {},
   "outputs": [
    {
     "data": {
      "text/plain": [
       "226180"
      ]
     },
     "execution_count": 56,
     "metadata": {},
     "output_type": "execute_result"
    }
   ],
   "source": [
    "idx_device"
   ]
  },
  {
   "cell_type": "code",
   "execution_count": 58,
   "metadata": {},
   "outputs": [
    {
     "data": {
      "text/plain": [
       "901"
      ]
     },
     "execution_count": 58,
     "metadata": {},
     "output_type": "execute_result"
    }
   ],
   "source": [
    "idx_shared + 1"
   ]
  },
  {
   "cell_type": "code",
   "execution_count": 63,
   "metadata": {},
   "outputs": [
    {
     "name": "stdout",
     "output_type": "stream",
     "text": [
      "227326\n"
     ]
    }
   ],
   "source": [
    "idx_shared = (scan_array_size - 2)\n",
    "idx_device = idx_shared + blockID*scan_array_size\n",
    "print(idx_device)"
   ]
  },
  {
   "cell_type": "code",
   "execution_count": 65,
   "metadata": {},
   "outputs": [
    {
     "data": {
      "text/plain": [
       "1144"
      ]
     },
     "execution_count": 65,
     "metadata": {},
     "output_type": "execute_result"
    }
   ],
   "source": [
    "227326 - array_shape"
   ]
  },
  {
   "cell_type": "code",
   "execution_count": 64,
   "metadata": {},
   "outputs": [
    {
     "data": {
      "text/plain": [
       "226182"
      ]
     },
     "execution_count": 64,
     "metadata": {},
     "output_type": "execute_result"
    }
   ],
   "source": [
    "array_shape"
   ]
  },
  {
   "cell_type": "code",
   "execution_count": null,
   "metadata": {},
   "outputs": [],
   "source": [
    "idx_shared + 2 == scan_array_size"
   ]
  }
 ],
 "metadata": {
  "kernelspec": {
   "display_name": "Python 3.9.12 ('trimeshv')",
   "language": "python",
   "name": "python3"
  },
  "language_info": {
   "codemirror_mode": {
    "name": "ipython",
    "version": 3
   },
   "file_extension": ".py",
   "mimetype": "text/x-python",
   "name": "python",
   "nbconvert_exporter": "python",
   "pygments_lexer": "ipython3",
   "version": "3.9.12"
  },
  "orig_nbformat": 4,
  "vscode": {
   "interpreter": {
    "hash": "2f54fddc8d230ee28cba7cfa8c37320e374e2e6fb8cb92abb2139b0d05c16486"
   }
  }
 },
 "nbformat": 4,
 "nbformat_minor": 2
}
